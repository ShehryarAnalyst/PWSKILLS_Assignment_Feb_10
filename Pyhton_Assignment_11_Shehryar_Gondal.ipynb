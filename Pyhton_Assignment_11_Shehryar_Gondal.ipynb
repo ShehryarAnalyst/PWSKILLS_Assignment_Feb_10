{
 "cells": [
  {
   "cell_type": "markdown",
   "id": "89f859f4",
   "metadata": {},
   "source": [
    "## Assignments Questions"
   ]
  },
  {
   "cell_type": "markdown",
   "id": "77d47bef",
   "metadata": {},
   "source": [
    "__Q1. Which function is used to open a file? What are the different modes of opening a file? Explain each mode of file opening.__\n",
    "\n",
    "__Ans)__ The __open()__ function is used to open a file in Python. It takes two arguments: the name of the file to open, and the mode in which to open it. There are several different modes of opening a file: <br>\n",
    "\n",
    "1. __\"r\"  mode__ (read-only): This is the default mode and allows you to read the contents of a file.\n",
    "\n",
    "2. __\"w\" mode__ (write-only): This mode allows you to write data to a file. If the file already exists, its contents will be overwritten. If the file does not exist, a new file will be created.\n",
    "\n",
    "3. __\"a\" mode__ (append): This mode allows you to append new data to the end of a file. If the file does not exist, a new file will be created.\n",
    "\n",
    "4. __\"x\" mode__ (exclusive creation): This mode allows you to create a new file, but raises an error if the file already exists.\n",
    "\n",
    "5. __\"b\" mode__ (binary): This mode is used to open a file in binary mode, which is useful for reading and writing binary data like images, audio, and video files.\n",
    "\n",
    "6. __\"t\" mode__ (text): This mode is used to open a file in text mode, which is the default mode. In text mode, files are read and written as strings"
   ]
  },
  {
   "cell_type": "markdown",
   "id": "fab4b446",
   "metadata": {},
   "source": [
    "__Q2. Why close() function is used? Why is it important to close a file?__\n",
    "\n",
    "__Ans)__ The __close()__ function is used to close a file that has been opened using the open() function in Python. It's important to close a file because of resource management , Data Consistency , Security etc. <br>\n",
    "To close a file, you can simply call the close() function on the file object. For example, if you opened a file with the following code:<br>\n",
    "file=open(\"Text.txt\",\"w\") <br>\n",
    "file.write(\"I'm data Scientist\")<br>\n",
    "file.close() <br>\n"
   ]
  },
  {
   "cell_type": "markdown",
   "id": "29d1bff6",
   "metadata": {},
   "source": [
    "__Q4. Explain the following with python code: read(), readline() and readlines().__\n",
    "\n",
    "__Ans)__\n",
    "1. read(): The read() method reads the entire content of a file and returns it as a single string.\n",
    "2. readline(): The readline() method reads a single line from a file and returns it as a string. \n",
    "3. readlines(): The readlines() method reads all the lines of a file and returns them as a list of strings."
   ]
  },
  {
   "cell_type": "code",
   "execution_count": 5,
   "id": "c7affb38",
   "metadata": {},
   "outputs": [],
   "source": [
    "file=open(\"test.txt\",\"w\")\n",
    "\n",
    "file.write(\"Im going to become data scientist\")\n",
    "file.close()"
   ]
  },
  {
   "cell_type": "code",
   "execution_count": 6,
   "id": "1e315e16",
   "metadata": {},
   "outputs": [
    {
     "name": "stdout",
     "output_type": "stream",
     "text": [
      "Im going to become data scientist\n"
     ]
    }
   ],
   "source": [
    "with open('test.txt', 'r') as file:\n",
    "    data = file.read()\n",
    "    print(data)"
   ]
  },
  {
   "cell_type": "code",
   "execution_count": 7,
   "id": "f68be3d7",
   "metadata": {},
   "outputs": [
    {
     "name": "stdout",
     "output_type": "stream",
     "text": [
      "Im going to become data scientist\n"
     ]
    }
   ],
   "source": [
    "with open('test.txt', 'r') as file:\n",
    "    line = file.readline()\n",
    "    while line:\n",
    "        print(line)\n",
    "        line = file.readline()\n"
   ]
  },
  {
   "cell_type": "code",
   "execution_count": 8,
   "id": "24e1d8f5",
   "metadata": {},
   "outputs": [
    {
     "name": "stdout",
     "output_type": "stream",
     "text": [
      "Im going to become data scientist\n"
     ]
    }
   ],
   "source": [
    "with open('test.txt', 'r') as file:\n",
    "    lines = file.readlines()\n",
    "    for line in lines:\n",
    "        print(line)\n"
   ]
  },
  {
   "cell_type": "markdown",
   "id": "fb0816d0",
   "metadata": {},
   "source": [
    "__Q3. Write a python program to create a text file. Write 'I want to become a Data Scientist' in that file. Then close the file. Open this file and read the content of the file.__"
   ]
  },
  {
   "cell_type": "code",
   "execution_count": 16,
   "id": "a73c6bd4",
   "metadata": {},
   "outputs": [],
   "source": [
    "file2=open(\"test2.txt\",\"w\")\n",
    "\n",
    "file2.write(\"I want to become a data scientist\")\n",
    "file.close()"
   ]
  },
  {
   "cell_type": "code",
   "execution_count": 17,
   "id": "38773bc5",
   "metadata": {},
   "outputs": [
    {
     "name": "stdout",
     "output_type": "stream",
     "text": [
      "I want to become a data scientist\n"
     ]
    }
   ],
   "source": [
    "with open('test2.txt', 'r') as file2:\n",
    "    data = file2.read()\n",
    "    print(data)"
   ]
  },
  {
   "cell_type": "markdown",
   "id": "c9a4904d",
   "metadata": {},
   "source": [
    "__Q5. Explain why with statement is used with open(). What is the advantage of using with statement and open() together?__\n",
    "\n",
    "__Ans)__ The __with statement__ is used with file operations to ensure that the file is properly closed after the block of code is executed. When a file is opened in Python, system resources are allocated to the file, and the with statement provides a cleaner syntax and ensures that the file is closed automatically. Using with and open() together eliminates the need to manually close the file, automatically closes the file when the block of code is exited, and provides a way to handle exceptions raised during file operations.<br>\n",
    "__Advantages__ <br>\n",
    "\n",
    "1. __Cleaner syntax:__ The with statement eliminates the need to manually close the file and provides a cleaner and more readable syntax.\n",
    "\n",
    "2. __Automatic closing of files:__ The with statement automatically closes the file when the block of code is exited, even if an exception is raised. "
   ]
  },
  {
   "cell_type": "markdown",
   "id": "781a91bd",
   "metadata": {},
   "source": [
    "__Q6. Explain the write() and writelines() functions. Give a suitable example.__\n",
    "\n",
    "__Ans)__ The write() function is used to write a single string to a file, and writelines() function is used to write a list of strings to a file.\n",
    "\n",
    "Example of write() function:<br>"
   ]
  },
  {
   "cell_type": "code",
   "execution_count": null,
   "id": "e565c8d0",
   "metadata": {},
   "outputs": [],
   "source": [
    "with open('file.txt', 'w') as file:\n",
    "    file.write('This is a line of text.')\n"
   ]
  },
  {
   "cell_type": "markdown",
   "id": "ccfd32ee",
   "metadata": {},
   "source": [
    "Example of writelines() function:"
   ]
  },
  {
   "cell_type": "code",
   "execution_count": null,
   "id": "6207e424",
   "metadata": {},
   "outputs": [],
   "source": [
    "lines = ['Line 1\\n', 'Line 2\\n', 'Line 3\\n']\n",
    "\n",
    "with open('file.txt', 'w') as file:\n",
    "    file.writelines(lines)\n"
   ]
  },
  {
   "cell_type": "markdown",
   "id": "00201f53",
   "metadata": {},
   "source": [
    "-------------------------------------------------------------------------------------------- __End__----------------------------------------------------------------------------------------------------------------"
   ]
  }
 ],
 "metadata": {
  "kernelspec": {
   "display_name": "Python 3 (ipykernel)",
   "language": "python",
   "name": "python3"
  },
  "language_info": {
   "codemirror_mode": {
    "name": "ipython",
    "version": 3
   },
   "file_extension": ".py",
   "mimetype": "text/x-python",
   "name": "python",
   "nbconvert_exporter": "python",
   "pygments_lexer": "ipython3",
   "version": "3.9.12"
  },
  "varInspector": {
   "cols": {
    "lenName": 16,
    "lenType": 16,
    "lenVar": 40
   },
   "kernels_config": {
    "python": {
     "delete_cmd_postfix": "",
     "delete_cmd_prefix": "del ",
     "library": "var_list.py",
     "varRefreshCmd": "print(var_dic_list())"
    },
    "r": {
     "delete_cmd_postfix": ") ",
     "delete_cmd_prefix": "rm(",
     "library": "var_list.r",
     "varRefreshCmd": "cat(var_dic_list()) "
    }
   },
   "types_to_exclude": [
    "module",
    "function",
    "builtin_function_or_method",
    "instance",
    "_Feature"
   ],
   "window_display": false
  }
 },
 "nbformat": 4,
 "nbformat_minor": 5
}
